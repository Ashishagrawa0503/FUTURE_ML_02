import pandas as pd

df = pd.read_csv('/content/NFLX.csv')
df.head()

df['Date']=pd.to_datetime(df['Date'])

df['year']= df['Date'].dt.year
df['month']= df['Date'].dt.month
df['day']= df['Date'].dt.day
df.head()

df.drop('Date',axis=1,inplace=True)



df.shape

df.isnull().sum()

df.info()

import matplotlib.pyplot as plt

import matplotlib.pyplot as plt

for i in df.columns:
  # Pass figsize as a tuple (width, height)
  plt.figure(figsize=(5, 2))  
  plt.title(i)
  plt.plot(df[i]) # Assuming you want to plot the data
  plt.show()

from sklearn.model_selection import train_test_split
X=df.drop('Close',axis=1)
y=df['Close']
X_train,X_test,y_train,y_test=train_test_split(X,y,test_size=0.2,random_state=42)


from sklearn.preprocessing import StandardScaler
scaler=StandardScaler()
X_train=scaler.fit_transform(X_train)
X_test=scaler.transform(X_test)

from sklearn.linear_model import LinearRegression
lr=LinearRegression()
lr.fit(X_train,y_train)
y_pred=lr.predict(X_test)

y_pred

from sklearn.metrics import r2_score,mean_squared_error
r2_score(y_test,y_pred)

mean_squared_error(y_test,y_pred)



import pickle

# Save the trained Linear Regression model
with open('linear_regression_model.pkl', 'wb') as file:
    pickle.dump(lr, file)

